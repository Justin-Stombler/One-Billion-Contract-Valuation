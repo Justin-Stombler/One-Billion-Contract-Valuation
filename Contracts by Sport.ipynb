{
 "cells": [
  {
   "cell_type": "code",
   "execution_count": 1,
   "metadata": {},
   "outputs": [
    {
     "name": "stderr",
     "output_type": "stream",
     "text": [
      "In D:\\Anaconda\\lib\\site-packages\\matplotlib\\mpl-data\\stylelib\\_classic_test.mplstyle: \n",
      "The text.latex.preview rcparam was deprecated in Matplotlib 3.3 and will be removed two minor releases later.\n",
      "In D:\\Anaconda\\lib\\site-packages\\matplotlib\\mpl-data\\stylelib\\_classic_test.mplstyle: \n",
      "The mathtext.fallback_to_cm rcparam was deprecated in Matplotlib 3.3 and will be removed two minor releases later.\n",
      "In D:\\Anaconda\\lib\\site-packages\\matplotlib\\mpl-data\\stylelib\\_classic_test.mplstyle: Support for setting the 'mathtext.fallback_to_cm' rcParam is deprecated since 3.3 and will be removed two minor releases later; use 'mathtext.fallback : 'cm' instead.\n",
      "In D:\\Anaconda\\lib\\site-packages\\matplotlib\\mpl-data\\stylelib\\_classic_test.mplstyle: \n",
      "The validate_bool_maybe_none function was deprecated in Matplotlib 3.3 and will be removed two minor releases later.\n",
      "In D:\\Anaconda\\lib\\site-packages\\matplotlib\\mpl-data\\stylelib\\_classic_test.mplstyle: \n",
      "The savefig.jpeg_quality rcparam was deprecated in Matplotlib 3.3 and will be removed two minor releases later.\n",
      "In D:\\Anaconda\\lib\\site-packages\\matplotlib\\mpl-data\\stylelib\\_classic_test.mplstyle: \n",
      "The keymap.all_axes rcparam was deprecated in Matplotlib 3.3 and will be removed two minor releases later.\n",
      "In D:\\Anaconda\\lib\\site-packages\\matplotlib\\mpl-data\\stylelib\\_classic_test.mplstyle: \n",
      "The animation.avconv_path rcparam was deprecated in Matplotlib 3.3 and will be removed two minor releases later.\n",
      "In D:\\Anaconda\\lib\\site-packages\\matplotlib\\mpl-data\\stylelib\\_classic_test.mplstyle: \n",
      "The animation.avconv_args rcparam was deprecated in Matplotlib 3.3 and will be removed two minor releases later.\n"
     ]
    }
   ],
   "source": [
    "import pandas as pd\n",
    "import numpy as np\n",
    "import matplotlib.pyplot as plt\n",
    "import seaborn as sns\n",
    "import scipy\n",
    "%matplotlib inline"
   ]
  },
  {
   "cell_type": "code",
   "execution_count": 2,
   "metadata": {},
   "outputs": [
    {
     "name": "stdout",
     "output_type": "stream",
     "text": [
      "<_io.TextIOWrapper name='mlb_contracts.csv' mode='r' encoding='cp1252'>\n"
     ]
    }
   ],
   "source": [
    "##Checking for Encoding Type##\n",
    "with open('mlb_contracts.csv') as f:\n",
    "    print(f)"
   ]
  },
  {
   "cell_type": "code",
   "execution_count": 3,
   "metadata": {},
   "outputs": [],
   "source": [
    "##Reading in the DataFrames##\n",
    "mlb_contracts = pd.read_csv('mlb_contracts.csv', encoding='cp1252')\n",
    "\n",
    "nba_contracts = pd.read_csv('nba_contracts.csv', encoding='cp1252')\n",
    "\n",
    "nfl_contracts = pd.read_csv('nfl_contracts.csv', encoding='cp1252')\n",
    "\n",
    "nhl_contracts = pd.read_csv('nhl_contracts.csv', encoding='cp1252')"
   ]
  },
  {
   "cell_type": "markdown",
   "metadata": {},
   "source": [
    "Luckily for us, Spotrac is very consistent with formatting, as such we can actually iterate through loops to format these to our liking. We will need to take away the G'teed money from NFL, as it doesn't help our analysis much and the other columns all hold the same titles.\n",
    "\n",
    "## Creating Data Dictionary"
   ]
  },
  {
   "cell_type": "code",
   "execution_count": 4,
   "metadata": {
    "scrolled": true
   },
   "outputs": [
    {
     "data": {
      "text/html": [
       "<div>\n",
       "<style scoped>\n",
       "    .dataframe tbody tr th:only-of-type {\n",
       "        vertical-align: middle;\n",
       "    }\n",
       "\n",
       "    .dataframe tbody tr th {\n",
       "        vertical-align: top;\n",
       "    }\n",
       "\n",
       "    .dataframe thead th {\n",
       "        text-align: right;\n",
       "    }\n",
       "</style>\n",
       "<table border=\"1\" class=\"dataframe\">\n",
       "  <thead>\n",
       "    <tr style=\"text-align: right;\">\n",
       "      <th></th>\n",
       "      <th>Rank</th>\n",
       "      <th>Player</th>\n",
       "      <th>Signed Age</th>\n",
       "      <th>Yrs</th>\n",
       "      <th>Value</th>\n",
       "      <th>AAV</th>\n",
       "      <th>Signing Bonus</th>\n",
       "      <th>Position</th>\n",
       "    </tr>\n",
       "  </thead>\n",
       "  <tbody>\n",
       "    <tr>\n",
       "      <td>0</td>\n",
       "      <td>1</td>\n",
       "      <td>Mike Trout|2019-2030 (FA: 2031)</td>\n",
       "      <td>27</td>\n",
       "      <td>12</td>\n",
       "      <td>426500000</td>\n",
       "      <td>35541667</td>\n",
       "      <td>20000000</td>\n",
       "      <td>CF</td>\n",
       "    </tr>\n",
       "    <tr>\n",
       "      <td>1</td>\n",
       "      <td>2</td>\n",
       "      <td>Mookie Betts|2020-2032 (FA: 2033)</td>\n",
       "      <td>27</td>\n",
       "      <td>12</td>\n",
       "      <td>365000000</td>\n",
       "      <td>30416667</td>\n",
       "      <td>65000000</td>\n",
       "      <td>RF</td>\n",
       "    </tr>\n",
       "    <tr>\n",
       "      <td>2</td>\n",
       "      <td>3</td>\n",
       "      <td>Bryce Harper|2019-2031 (FA: 2032)</td>\n",
       "      <td>26</td>\n",
       "      <td>13</td>\n",
       "      <td>330000000</td>\n",
       "      <td>25384615</td>\n",
       "      <td>20000000</td>\n",
       "      <td>RF</td>\n",
       "    </tr>\n",
       "    <tr>\n",
       "      <td>3</td>\n",
       "      <td>4</td>\n",
       "      <td>Giancarlo Stanton |2015-2027 (FA: 2029)Origina...</td>\n",
       "      <td>25</td>\n",
       "      <td>13</td>\n",
       "      <td>325000000</td>\n",
       "      <td>25000000</td>\n",
       "      <td>0</td>\n",
       "      <td>DH</td>\n",
       "    </tr>\n",
       "    <tr>\n",
       "      <td>4</td>\n",
       "      <td>5</td>\n",
       "      <td>Gerrit Cole|2020-2028 (FA: 2029)</td>\n",
       "      <td>29</td>\n",
       "      <td>9</td>\n",
       "      <td>324000000</td>\n",
       "      <td>36000000</td>\n",
       "      <td>0</td>\n",
       "      <td>SP</td>\n",
       "    </tr>\n",
       "  </tbody>\n",
       "</table>\n",
       "</div>"
      ],
      "text/plain": [
       "   Rank                                             Player  Signed Age  Yrs  \\\n",
       "0     1                    Mike Trout|2019-2030 (FA: 2031)          27   12   \n",
       "1     2                  Mookie Betts|2020-2032 (FA: 2033)          27   12   \n",
       "2     3                  Bryce Harper|2019-2031 (FA: 2032)          26   13   \n",
       "3     4  Giancarlo Stanton |2015-2027 (FA: 2029)Origina...          25   13   \n",
       "4     5                   Gerrit Cole|2020-2028 (FA: 2029)          29    9   \n",
       "\n",
       "       Value       AAV  Signing Bonus Position  \n",
       "0  426500000  35541667       20000000       CF  \n",
       "1  365000000  30416667       65000000       RF  \n",
       "2  330000000  25384615       20000000       RF  \n",
       "3  325000000  25000000              0       DH  \n",
       "4  324000000  36000000              0       SP  "
      ]
     },
     "execution_count": 4,
     "metadata": {},
     "output_type": "execute_result"
    }
   ],
   "source": [
    "##Creating a dictionary where we can store the datasets and call on them##\n",
    "data_dict = {'mlb': mlb_contracts, 'nba': nba_contracts, 'nfl': nfl_contracts, 'nhl': nhl_contracts}\n",
    "##Testing##\n",
    "data_dict['mlb'].head()"
   ]
  },
  {
   "cell_type": "code",
   "execution_count": 5,
   "metadata": {},
   "outputs": [],
   "source": [
    "##Removing NFL's G'teed Money##\n",
    "del data_dict['nfl'][\"G'teed @ Sign\"]\n",
    "del data_dict['nfl'][\"Practical G'teed\"]"
   ]
  },
  {
   "cell_type": "code",
   "execution_count": 6,
   "metadata": {},
   "outputs": [
    {
     "data": {
      "text/plain": [
       "Index(['Rank', 'Player', 'Signed Age', 'Yrs', 'Value', 'AAV', 'Sign Bonus',\n",
       "       'Position'],\n",
       "      dtype='object')"
      ]
     },
     "execution_count": 6,
     "metadata": {},
     "output_type": "execute_result"
    }
   ],
   "source": [
    "data_dict['nfl'].columns"
   ]
  },
  {
   "cell_type": "code",
   "execution_count": 7,
   "metadata": {},
   "outputs": [
    {
     "name": "stderr",
     "output_type": "stream",
     "text": [
      "D:\\Anaconda\\lib\\site-packages\\ipykernel_launcher.py:30: SettingWithCopyWarning: \n",
      "A value is trying to be set on a copy of a slice from a DataFrame.\n",
      "Try using .loc[row_indexer,col_indexer] = value instead\n",
      "\n",
      "See the caveats in the documentation: http://pandas.pydata.org/pandas-docs/stable/user_guide/indexing.html#returning-a-view-versus-a-copy\n",
      "D:\\Anaconda\\lib\\site-packages\\ipykernel_launcher.py:31: SettingWithCopyWarning: \n",
      "A value is trying to be set on a copy of a slice from a DataFrame.\n",
      "Try using .loc[row_indexer,col_indexer] = value instead\n",
      "\n",
      "See the caveats in the documentation: http://pandas.pydata.org/pandas-docs/stable/user_guide/indexing.html#returning-a-view-versus-a-copy\n",
      "D:\\Anaconda\\lib\\site-packages\\ipykernel_launcher.py:34: SettingWithCopyWarning: \n",
      "A value is trying to be set on a copy of a slice from a DataFrame.\n",
      "Try using .loc[row_indexer,col_indexer] = value instead\n",
      "\n",
      "See the caveats in the documentation: http://pandas.pydata.org/pandas-docs/stable/user_guide/indexing.html#returning-a-view-versus-a-copy\n"
     ]
    }
   ],
   "source": [
    "##Listing the Strings of Keys##\n",
    "sport_list = data_dict.keys()\n",
    "##Iterating through Strings to clean all sets##\n",
    "for i in sport_list:\n",
    "    ##Separate Name and Contract Date##\n",
    "    data_dict[i][['Name','Contract']] = data_dict[i].Player.str.split('|', expand=True)\n",
    "    \n",
    "    ##Separate Contract Date and Free Agency Year)\n",
    "    data_dict[i][['Contract', 'to_del']] = data_dict[i].Contract.str.split('(',expand=True)\n",
    "    \n",
    "    ##Delete Free Agency Year##\n",
    "    del data_dict[i]['to_del']\n",
    "    \n",
    "    ##Split Contract to get Start/End Dates\n",
    "    data_dict[i][['Start Year', 'End Year']] = data_dict[i].Contract.str.split('-', expand=True)\n",
    "    \n",
    "    ##Creating Length out of Start and End Years##\\\n",
    "    data_dict[i]['Start Year'] = data_dict[i]['Start Year'].astype(int)\n",
    "    data_dict[i]['End Year'] = data_dict[i]['End Year'].astype(int)\n",
    "    data_dict[i]['Length'] = data_dict[i]['End Year'] - data_dict[i]['Start Year']\n",
    "    \n",
    "    ##Deleting Contract Column##\n",
    "    del data_dict[i]['Contract']\n",
    "    \n",
    "    ##Reordering Columns\n",
    "    cols = ['Name', 'Position', 'Start Year', 'End Year', 'Length', 'Signed Age', 'Value', 'AAV']\n",
    "    data_dict[i] = data_dict[i][cols]   \n",
    "    \n",
    "    ##Typecasting important columns##\n",
    "    data_dict[i]['Value'] = data_dict[i]['Value'].astype(int)\n",
    "    data_dict[i]['AAV'] = data_dict[i]['AAV'].astype(int)\n",
    "    \n",
    "    ##Including League Names##\n",
    "    data_dict[i]['League'] = i.upper()"
   ]
  },
  {
   "cell_type": "markdown",
   "metadata": {},
   "source": [
    "Now that we've iteravely cleaned each dataset, we can print the heads of them to ensure uniformity and get a quick look at the top contracts among each sport."
   ]
  },
  {
   "cell_type": "markdown",
   "metadata": {},
   "source": [
    "## Running .head()s"
   ]
  },
  {
   "cell_type": "code",
   "execution_count": 8,
   "metadata": {},
   "outputs": [
    {
     "data": {
      "text/html": [
       "<div>\n",
       "<style scoped>\n",
       "    .dataframe tbody tr th:only-of-type {\n",
       "        vertical-align: middle;\n",
       "    }\n",
       "\n",
       "    .dataframe tbody tr th {\n",
       "        vertical-align: top;\n",
       "    }\n",
       "\n",
       "    .dataframe thead th {\n",
       "        text-align: right;\n",
       "    }\n",
       "</style>\n",
       "<table border=\"1\" class=\"dataframe\">\n",
       "  <thead>\n",
       "    <tr style=\"text-align: right;\">\n",
       "      <th></th>\n",
       "      <th>Name</th>\n",
       "      <th>Position</th>\n",
       "      <th>Start Year</th>\n",
       "      <th>End Year</th>\n",
       "      <th>Length</th>\n",
       "      <th>Signed Age</th>\n",
       "      <th>Value</th>\n",
       "      <th>AAV</th>\n",
       "      <th>League</th>\n",
       "    </tr>\n",
       "  </thead>\n",
       "  <tbody>\n",
       "    <tr>\n",
       "      <td>0</td>\n",
       "      <td>Mike Trout</td>\n",
       "      <td>CF</td>\n",
       "      <td>2019</td>\n",
       "      <td>2030</td>\n",
       "      <td>11</td>\n",
       "      <td>27</td>\n",
       "      <td>426500000</td>\n",
       "      <td>35541667</td>\n",
       "      <td>MLB</td>\n",
       "    </tr>\n",
       "    <tr>\n",
       "      <td>1</td>\n",
       "      <td>Mookie Betts</td>\n",
       "      <td>RF</td>\n",
       "      <td>2020</td>\n",
       "      <td>2032</td>\n",
       "      <td>12</td>\n",
       "      <td>27</td>\n",
       "      <td>365000000</td>\n",
       "      <td>30416667</td>\n",
       "      <td>MLB</td>\n",
       "    </tr>\n",
       "    <tr>\n",
       "      <td>2</td>\n",
       "      <td>Bryce Harper</td>\n",
       "      <td>RF</td>\n",
       "      <td>2019</td>\n",
       "      <td>2031</td>\n",
       "      <td>12</td>\n",
       "      <td>26</td>\n",
       "      <td>330000000</td>\n",
       "      <td>25384615</td>\n",
       "      <td>MLB</td>\n",
       "    </tr>\n",
       "    <tr>\n",
       "      <td>3</td>\n",
       "      <td>Giancarlo Stanton</td>\n",
       "      <td>DH</td>\n",
       "      <td>2015</td>\n",
       "      <td>2027</td>\n",
       "      <td>12</td>\n",
       "      <td>25</td>\n",
       "      <td>325000000</td>\n",
       "      <td>25000000</td>\n",
       "      <td>MLB</td>\n",
       "    </tr>\n",
       "    <tr>\n",
       "      <td>4</td>\n",
       "      <td>Gerrit Cole</td>\n",
       "      <td>SP</td>\n",
       "      <td>2020</td>\n",
       "      <td>2028</td>\n",
       "      <td>8</td>\n",
       "      <td>29</td>\n",
       "      <td>324000000</td>\n",
       "      <td>36000000</td>\n",
       "      <td>MLB</td>\n",
       "    </tr>\n",
       "  </tbody>\n",
       "</table>\n",
       "</div>"
      ],
      "text/plain": [
       "                 Name Position  Start Year  End Year  Length  Signed Age  \\\n",
       "0          Mike Trout       CF        2019      2030      11          27   \n",
       "1        Mookie Betts       RF        2020      2032      12          27   \n",
       "2        Bryce Harper       RF        2019      2031      12          26   \n",
       "3  Giancarlo Stanton        DH        2015      2027      12          25   \n",
       "4         Gerrit Cole       SP        2020      2028       8          29   \n",
       "\n",
       "       Value       AAV League  \n",
       "0  426500000  35541667    MLB  \n",
       "1  365000000  30416667    MLB  \n",
       "2  330000000  25384615    MLB  \n",
       "3  325000000  25000000    MLB  \n",
       "4  324000000  36000000    MLB  "
      ]
     },
     "execution_count": 8,
     "metadata": {},
     "output_type": "execute_result"
    }
   ],
   "source": [
    "data_dict['mlb'].head()"
   ]
  },
  {
   "cell_type": "code",
   "execution_count": 9,
   "metadata": {},
   "outputs": [
    {
     "data": {
      "text/html": [
       "<div>\n",
       "<style scoped>\n",
       "    .dataframe tbody tr th:only-of-type {\n",
       "        vertical-align: middle;\n",
       "    }\n",
       "\n",
       "    .dataframe tbody tr th {\n",
       "        vertical-align: top;\n",
       "    }\n",
       "\n",
       "    .dataframe thead th {\n",
       "        text-align: right;\n",
       "    }\n",
       "</style>\n",
       "<table border=\"1\" class=\"dataframe\">\n",
       "  <thead>\n",
       "    <tr style=\"text-align: right;\">\n",
       "      <th></th>\n",
       "      <th>Name</th>\n",
       "      <th>Position</th>\n",
       "      <th>Start Year</th>\n",
       "      <th>End Year</th>\n",
       "      <th>Length</th>\n",
       "      <th>Signed Age</th>\n",
       "      <th>Value</th>\n",
       "      <th>AAV</th>\n",
       "      <th>League</th>\n",
       "    </tr>\n",
       "  </thead>\n",
       "  <tbody>\n",
       "    <tr>\n",
       "      <td>0</td>\n",
       "      <td>Patrick Mahomes</td>\n",
       "      <td>QB</td>\n",
       "      <td>2020</td>\n",
       "      <td>2031</td>\n",
       "      <td>11</td>\n",
       "      <td>24</td>\n",
       "      <td>450000000</td>\n",
       "      <td>45000000</td>\n",
       "      <td>NFL</td>\n",
       "    </tr>\n",
       "    <tr>\n",
       "      <td>1</td>\n",
       "      <td>Deshaun Watson</td>\n",
       "      <td>QB</td>\n",
       "      <td>2020</td>\n",
       "      <td>2025</td>\n",
       "      <td>5</td>\n",
       "      <td>24</td>\n",
       "      <td>156000000</td>\n",
       "      <td>39000000</td>\n",
       "      <td>NFL</td>\n",
       "    </tr>\n",
       "    <tr>\n",
       "      <td>2</td>\n",
       "      <td>Matt Ryan</td>\n",
       "      <td>QB</td>\n",
       "      <td>2018</td>\n",
       "      <td>2023</td>\n",
       "      <td>5</td>\n",
       "      <td>32</td>\n",
       "      <td>150000000</td>\n",
       "      <td>30000000</td>\n",
       "      <td>NFL</td>\n",
       "    </tr>\n",
       "    <tr>\n",
       "      <td>3</td>\n",
       "      <td>Khalil Mack</td>\n",
       "      <td>LB</td>\n",
       "      <td>2018</td>\n",
       "      <td>2024</td>\n",
       "      <td>6</td>\n",
       "      <td>27</td>\n",
       "      <td>141000000</td>\n",
       "      <td>23500000</td>\n",
       "      <td>NFL</td>\n",
       "    </tr>\n",
       "    <tr>\n",
       "      <td>4</td>\n",
       "      <td>Russell Wilson</td>\n",
       "      <td>QB</td>\n",
       "      <td>2019</td>\n",
       "      <td>2023</td>\n",
       "      <td>4</td>\n",
       "      <td>30</td>\n",
       "      <td>140000000</td>\n",
       "      <td>35000000</td>\n",
       "      <td>NFL</td>\n",
       "    </tr>\n",
       "  </tbody>\n",
       "</table>\n",
       "</div>"
      ],
      "text/plain": [
       "               Name Position  Start Year  End Year  Length  Signed Age  \\\n",
       "0  Patrick Mahomes        QB        2020      2031      11          24   \n",
       "1   Deshaun Watson        QB        2020      2025       5          24   \n",
       "2        Matt Ryan        QB        2018      2023       5          32   \n",
       "3      Khalil Mack        LB        2018      2024       6          27   \n",
       "4   Russell Wilson        QB        2019      2023       4          30   \n",
       "\n",
       "       Value       AAV League  \n",
       "0  450000000  45000000    NFL  \n",
       "1  156000000  39000000    NFL  \n",
       "2  150000000  30000000    NFL  \n",
       "3  141000000  23500000    NFL  \n",
       "4  140000000  35000000    NFL  "
      ]
     },
     "execution_count": 9,
     "metadata": {},
     "output_type": "execute_result"
    }
   ],
   "source": [
    "data_dict['nfl'].head()"
   ]
  },
  {
   "cell_type": "code",
   "execution_count": 10,
   "metadata": {},
   "outputs": [
    {
     "data": {
      "text/html": [
       "<div>\n",
       "<style scoped>\n",
       "    .dataframe tbody tr th:only-of-type {\n",
       "        vertical-align: middle;\n",
       "    }\n",
       "\n",
       "    .dataframe tbody tr th {\n",
       "        vertical-align: top;\n",
       "    }\n",
       "\n",
       "    .dataframe thead th {\n",
       "        text-align: right;\n",
       "    }\n",
       "</style>\n",
       "<table border=\"1\" class=\"dataframe\">\n",
       "  <thead>\n",
       "    <tr style=\"text-align: right;\">\n",
       "      <th></th>\n",
       "      <th>Name</th>\n",
       "      <th>Position</th>\n",
       "      <th>Start Year</th>\n",
       "      <th>End Year</th>\n",
       "      <th>Length</th>\n",
       "      <th>Signed Age</th>\n",
       "      <th>Value</th>\n",
       "      <th>AAV</th>\n",
       "      <th>League</th>\n",
       "    </tr>\n",
       "  </thead>\n",
       "  <tbody>\n",
       "    <tr>\n",
       "      <td>0</td>\n",
       "      <td>Giannis Antetokounmpo</td>\n",
       "      <td>PF</td>\n",
       "      <td>2021</td>\n",
       "      <td>2025</td>\n",
       "      <td>4</td>\n",
       "      <td>26</td>\n",
       "      <td>228200826</td>\n",
       "      <td>45640165</td>\n",
       "      <td>NBA</td>\n",
       "    </tr>\n",
       "    <tr>\n",
       "      <td>1</td>\n",
       "      <td>Russell Westbrook</td>\n",
       "      <td>PG</td>\n",
       "      <td>2018</td>\n",
       "      <td>2022</td>\n",
       "      <td>4</td>\n",
       "      <td>28</td>\n",
       "      <td>206794070</td>\n",
       "      <td>41358814</td>\n",
       "      <td>NBA</td>\n",
       "    </tr>\n",
       "    <tr>\n",
       "      <td>2</td>\n",
       "      <td>Rudy Gobert</td>\n",
       "      <td>C</td>\n",
       "      <td>2021</td>\n",
       "      <td>2025</td>\n",
       "      <td>4</td>\n",
       "      <td>28</td>\n",
       "      <td>205000002</td>\n",
       "      <td>41000000</td>\n",
       "      <td>NBA</td>\n",
       "    </tr>\n",
       "    <tr>\n",
       "      <td>3</td>\n",
       "      <td>Stephen Curry</td>\n",
       "      <td>PG</td>\n",
       "      <td>2017</td>\n",
       "      <td>2021</td>\n",
       "      <td>4</td>\n",
       "      <td>29</td>\n",
       "      <td>201158790</td>\n",
       "      <td>40231758</td>\n",
       "      <td>NBA</td>\n",
       "    </tr>\n",
       "    <tr>\n",
       "      <td>4</td>\n",
       "      <td>Anthony Davis</td>\n",
       "      <td>PF</td>\n",
       "      <td>2020</td>\n",
       "      <td>2024</td>\n",
       "      <td>4</td>\n",
       "      <td>27</td>\n",
       "      <td>189903600</td>\n",
       "      <td>37980720</td>\n",
       "      <td>NBA</td>\n",
       "    </tr>\n",
       "  </tbody>\n",
       "</table>\n",
       "</div>"
      ],
      "text/plain": [
       "                    Name Position  Start Year  End Year  Length  Signed Age  \\\n",
       "0  Giannis Antetokounmpo       PF        2021      2025       4          26   \n",
       "1     Russell Westbrook        PG        2018      2022       4          28   \n",
       "2          Rudy Gobert          C        2021      2025       4          28   \n",
       "3         Stephen Curry        PG        2017      2021       4          29   \n",
       "4         Anthony Davis        PF        2020      2024       4          27   \n",
       "\n",
       "       Value       AAV League  \n",
       "0  228200826  45640165    NBA  \n",
       "1  206794070  41358814    NBA  \n",
       "2  205000002  41000000    NBA  \n",
       "3  201158790  40231758    NBA  \n",
       "4  189903600  37980720    NBA  "
      ]
     },
     "execution_count": 10,
     "metadata": {},
     "output_type": "execute_result"
    }
   ],
   "source": [
    "data_dict['nba'].head()"
   ]
  },
  {
   "cell_type": "code",
   "execution_count": 11,
   "metadata": {
    "scrolled": false
   },
   "outputs": [
    {
     "data": {
      "text/html": [
       "<div>\n",
       "<style scoped>\n",
       "    .dataframe tbody tr th:only-of-type {\n",
       "        vertical-align: middle;\n",
       "    }\n",
       "\n",
       "    .dataframe tbody tr th {\n",
       "        vertical-align: top;\n",
       "    }\n",
       "\n",
       "    .dataframe thead th {\n",
       "        text-align: right;\n",
       "    }\n",
       "</style>\n",
       "<table border=\"1\" class=\"dataframe\">\n",
       "  <thead>\n",
       "    <tr style=\"text-align: right;\">\n",
       "      <th></th>\n",
       "      <th>Name</th>\n",
       "      <th>Position</th>\n",
       "      <th>Start Year</th>\n",
       "      <th>End Year</th>\n",
       "      <th>Length</th>\n",
       "      <th>Signed Age</th>\n",
       "      <th>Value</th>\n",
       "      <th>AAV</th>\n",
       "      <th>League</th>\n",
       "    </tr>\n",
       "  </thead>\n",
       "  <tbody>\n",
       "    <tr>\n",
       "      <td>0</td>\n",
       "      <td>Alex Ovechkin</td>\n",
       "      <td>LW</td>\n",
       "      <td>2008</td>\n",
       "      <td>2015</td>\n",
       "      <td>7</td>\n",
       "      <td>22</td>\n",
       "      <td>124000000</td>\n",
       "      <td>9538462</td>\n",
       "      <td>NHL</td>\n",
       "    </tr>\n",
       "    <tr>\n",
       "      <td>1</td>\n",
       "      <td>Shea Weber</td>\n",
       "      <td>D</td>\n",
       "      <td>2012</td>\n",
       "      <td>2025</td>\n",
       "      <td>13</td>\n",
       "      <td>26</td>\n",
       "      <td>110000000</td>\n",
       "      <td>7857143</td>\n",
       "      <td>NHL</td>\n",
       "    </tr>\n",
       "    <tr>\n",
       "      <td>2</td>\n",
       "      <td>Sidney Crosby</td>\n",
       "      <td>C</td>\n",
       "      <td>2013</td>\n",
       "      <td>2024</td>\n",
       "      <td>11</td>\n",
       "      <td>24</td>\n",
       "      <td>104400000</td>\n",
       "      <td>8700000</td>\n",
       "      <td>NHL</td>\n",
       "    </tr>\n",
       "    <tr>\n",
       "      <td>3</td>\n",
       "      <td>Connor McDavid</td>\n",
       "      <td>C</td>\n",
       "      <td>2018</td>\n",
       "      <td>2025</td>\n",
       "      <td>7</td>\n",
       "      <td>20</td>\n",
       "      <td>100000000</td>\n",
       "      <td>12500000</td>\n",
       "      <td>NHL</td>\n",
       "    </tr>\n",
       "    <tr>\n",
       "      <td>4</td>\n",
       "      <td>Ryan Suter</td>\n",
       "      <td>D</td>\n",
       "      <td>2012</td>\n",
       "      <td>2024</td>\n",
       "      <td>12</td>\n",
       "      <td>27</td>\n",
       "      <td>98000000</td>\n",
       "      <td>7538462</td>\n",
       "      <td>NHL</td>\n",
       "    </tr>\n",
       "  </tbody>\n",
       "</table>\n",
       "</div>"
      ],
      "text/plain": [
       "              Name Position  Start Year  End Year  Length  Signed Age  \\\n",
       "0    Alex Ovechkin       LW        2008      2015       7          22   \n",
       "1     Shea Weber          D        2012      2025      13          26   \n",
       "2   Sidney Crosby         C        2013      2024      11          24   \n",
       "3  Connor McDavid         C        2018      2025       7          20   \n",
       "4      Ryan Suter         D        2012      2024      12          27   \n",
       "\n",
       "       Value       AAV League  \n",
       "0  124000000   9538462    NHL  \n",
       "1  110000000   7857143    NHL  \n",
       "2  104400000   8700000    NHL  \n",
       "3  100000000  12500000    NHL  \n",
       "4   98000000   7538462    NHL  "
      ]
     },
     "execution_count": 11,
     "metadata": {},
     "output_type": "execute_result"
    }
   ],
   "source": [
    "data_dict['nhl'].head()"
   ]
  },
  {
   "cell_type": "code",
   "execution_count": 12,
   "metadata": {},
   "outputs": [],
   "source": [
    "##Re-Forming into .xlsx's for Power BI##\n",
    "\n",
    "data_dict['nhl'].to_excel('nhl_bi.xlsx')\n",
    "data_dict['nba'].to_excel('nba_bi.xlsx')\n",
    "data_dict['nfl'].to_excel('nfl_bi.xlsx')\n",
    "data_dict['mlb'].to_excel('mlb_bi.xlsx')"
   ]
  },
  {
   "cell_type": "markdown",
   "metadata": {},
   "source": [
    "## Basic Graphing"
   ]
  },
  {
   "cell_type": "code",
   "execution_count": 13,
   "metadata": {},
   "outputs": [
    {
     "data": {
      "image/png": "[encoded data removed]",
      "text/plain": [
       "<Figure size 864x432 with 1 Axes>"
      ]
     },
     "metadata": {
      "needs_background": "light"
     },
     "output_type": "display_data"
    }
   ],
   "source": [
    "##Calculating Average Contract Values##\n",
    "average_value = []\n",
    "for i in sport_list:\n",
    "    avg_value = data_dict[i]['Value'].mean()\n",
    "    average_value.append(avg_value)\n",
    "    \n",
    "##Bar Graph for Average Value by Sport##\n",
    "league_list = ['MLB', 'NBA', 'NFL', 'NHL']\n",
    "fig, ax = plt.subplots(figsize=(12,6))\n",
    "ax.ticklabel_format(style='plain')  \n",
    "ax.set_xlabel('Average Contract Amount ($)')\n",
    "ax.set_ylabel('League')\n",
    "sns.barplot(x=average_value, y=league_list, orient='h', palette='viridis')\n",
    "sns.despine(left=True, bottom=True)\n",
    "plt.title('Average Contract Value, Top 100 Contracts')\n",
    "\n",
    "plt.savefig('Value by League.png')"
   ]
  },
  {
   "cell_type": "code",
   "execution_count": 14,
   "metadata": {},
   "outputs": [
    {
     "data": {
      "image/png": "[encoded data removed]",
      "text/plain": [
       "<Figure size 864x432 with 1 Axes>"
      ]
     },
     "metadata": {
      "needs_background": "light"
     },
     "output_type": "display_data"
    }
   ],
   "source": [
    "##Calculating Average Annual Values##\n",
    "average_aav = []\n",
    "for i in sport_list:\n",
    "    avg_value = data_dict[i]['AAV'].mean()\n",
    "    average_aav.append(avg_value)\n",
    "    \n",
    "##Bar Graph for Average Value by Sport##\n",
    "league_list = ['MLB', 'NBA', 'NFL', 'NHL']\n",
    "fig, ax = plt.subplots(figsize=(12,6))\n",
    "ax.ticklabel_format(style='plain')  \n",
    "ax.set_xlabel('Average AAV ($)')\n",
    "ax.set_ylabel('League')\n",
    "sns.barplot(x=average_aav, y=league_list, orient='h', palette='viridis')\n",
    "sns.despine(left=True, bottom=True)\n",
    "plt.title('Average AAV, Top 100 Contracts')\n",
    "\n",
    "plt.savefig('AAV by League.png')"
   ]
  },
  {
   "cell_type": "code",
   "execution_count": 15,
   "metadata": {},
   "outputs": [
    {
     "data": {
      "text/plain": [
       "(2016.0, 2020.0)"
      ]
     },
     "execution_count": 15,
     "metadata": {},
     "output_type": "execute_result"
    },
    {
     "data": {
      "image/png": "[encoded data removed]",
      "text/plain": [
       "<Figure size 432x288 with 1 Axes>"
      ]
     },
     "metadata": {
      "needs_background": "light"
     },
     "output_type": "display_data"
    }
   ],
   "source": [
    "##Making a line graph of average value by Start Date per league##\n",
    "for i in sport_list:\n",
    "    data_dict[i] = data_dict[i].sort_values('Start Year', ascending=True)\n",
    "    \n",
    "avg_mlb_by_year = pd.pivot_table(data_dict['mlb'], values='Value', index='Start Year', aggfunc=np.mean)\n",
    "avg_nba_by_year = pd.pivot_table(data_dict['nba'], values='Value', index='Start Year', aggfunc=np.mean)\n",
    "avg_nfl_by_year = pd.pivot_table(data_dict['nfl'], values='Value', index='Start Year', aggfunc=np.mean)\n",
    "avg_nhl_by_year = pd.pivot_table(data_dict['nhl'], values='Value', index='Start Year', aggfunc=np.mean)\n",
    "\n",
    "##Creaing Line Graph based on Pivot Tables##\n",
    "fig, ax = plt.subplots()\n",
    "avg_mlb_by_year.plot(ax=ax)\n",
    "avg_nba_by_year.plot(ax=ax)\n",
    "avg_nfl_by_year.plot(ax=ax)\n",
    "avg_nhl_by_year.plot(ax=ax)\n",
    "ax.legend(['MLB', 'NBA', 'NFL', 'NHL'])\n",
    "ax.ticklabel_format(style='plain')  \n",
    "plt.xlim([2016, 2020])"
   ]
  },
  {
   "cell_type": "code",
   "execution_count": 16,
   "metadata": {},
   "outputs": [
    {
     "data": {
      "text/plain": [
       "(2013.0, 2020.0)"
      ]
     },
     "execution_count": 16,
     "metadata": {},
     "output_type": "execute_result"
    },
    {
     "data": {
      "image/png": "[encoded data removed]",
      "text/plain": [
       "<Figure size 432x288 with 1 Axes>"
      ]
     },
     "metadata": {
      "needs_background": "light"
     },
     "output_type": "display_data"
    }
   ],
   "source": [
    "##Pivot Tables for Max Contract by Year per League##\n",
    "avg_mlb_by_year = pd.pivot_table(data_dict['mlb'], values='Value', index='Start Year', aggfunc=np.max)\n",
    "avg_nba_by_year = pd.pivot_table(data_dict['nba'], values='Value', index='Start Year', aggfunc=np.max)\n",
    "avg_nfl_by_year = pd.pivot_table(data_dict['nfl'], values='Value', index='Start Year', aggfunc=np.max)\n",
    "avg_nhl_by_year = pd.pivot_table(data_dict['nhl'], values='Value', index='Start Year', aggfunc=np.max)\n",
    "\n",
    "##Creaing Line Graph based on Pivot Tables##\n",
    "fig, ax = plt.subplots()\n",
    "avg_mlb_by_year.plot(ax=ax)\n",
    "avg_nba_by_year.plot(ax=ax)\n",
    "avg_nfl_by_year.plot(ax=ax)\n",
    "avg_nhl_by_year.plot(ax=ax)\n",
    "ax.legend(['MLB', 'NBA', 'NFL', 'NHL'])\n",
    "ax.ticklabel_format(style='plain')  \n",
    "plt.xlim([2013, 2020])"
   ]
  },
  {
   "cell_type": "code",
   "execution_count": 17,
   "metadata": {},
   "outputs": [
    {
     "data": {
      "image/png": "[encoded data removed]",
      "text/plain": [
       "<Figure size 864x432 with 1 Axes>"
      ]
     },
     "metadata": {
      "needs_background": "light"
     },
     "output_type": "display_data"
    }
   ],
   "source": [
    "##Count of 200M or More Contracts##\n",
    "two_hundred_count = []\n",
    "for i in sport_list:\n",
    "    two_bool = data_dict[i][data_dict[i]['Value'] > 200000000]\n",
    "    two_hundred_count.append(two_bool['Value'].count())\n",
    "two_hundred_count\n",
    "\n",
    "league_list = ['MLB', 'NBA', 'NFL', 'NHL']\n",
    "fig, ax = plt.subplots(figsize=(12,6))\n",
    "ax.ticklabel_format(style='plain')  \n",
    "ax.set_xlabel('Contracts Above $200M')\n",
    "ax.set_ylabel('League')\n",
    "sns.barplot(x=two_hundred_count, y=league_list, orient='h', palette='viridis')\n",
    "sns.despine(left=True, bottom=True)\n",
    "plt.title('Number of Contracts above $200M by League')\n",
    "plt.savefig('Large Contract by League.png')"
   ]
  },
  {
   "cell_type": "code",
   "execution_count": 18,
   "metadata": {},
   "outputs": [
    {
     "data": {
      "text/plain": [
       "<AxesSubplot:xlabel='Position'>"
      ]
     },
     "execution_count": 18,
     "metadata": {},
     "output_type": "execute_result"
    },
    {
     "data": {
      "image/png": "[encoded data removed]",
      "text/plain": [
       "<Figure size 432x288 with 1 Axes>"
      ]
     },
     "metadata": {
      "needs_background": "light"
     },
     "output_type": "display_data"
    }
   ],
   "source": [
    "##Average Contracts in MLB by position from 2016-now##\n",
    "mlb_sixteen = data_dict['mlb'][data_dict['mlb']['Start Year'] >= 2016]\n",
    "avg_mlb_by_pos = pd.pivot_table(mlb_sixteen, values='Value', index='Position', aggfunc=np.max)\n",
    "avg_mlb_by_pos.plot.bar()"
   ]
  },
  {
   "cell_type": "markdown",
   "metadata": {},
   "source": [
    "Below, we will be working with a list of the highest MLB's top 1500 contracts ever awarded. With the idea to eventually show a logistic model of prediction for $1B contract.\n",
    "\n",
    "## Baseball Top Contracts"
   ]
  },
  {
   "cell_type": "code",
   "execution_count": 19,
   "metadata": {
    "scrolled": true
   },
   "outputs": [
    {
     "data": {
      "text/html": [
       "<div>\n",
       "<style scoped>\n",
       "    .dataframe tbody tr th:only-of-type {\n",
       "        vertical-align: middle;\n",
       "    }\n",
       "\n",
       "    .dataframe tbody tr th {\n",
       "        vertical-align: top;\n",
       "    }\n",
       "\n",
       "    .dataframe thead th {\n",
       "        text-align: right;\n",
       "    }\n",
       "</style>\n",
       "<table border=\"1\" class=\"dataframe\">\n",
       "  <thead>\n",
       "    <tr style=\"text-align: right;\">\n",
       "      <th></th>\n",
       "      <th>Rank</th>\n",
       "      <th>Player</th>\n",
       "      <th>Signed Age</th>\n",
       "      <th>Yrs</th>\n",
       "      <th>Value</th>\n",
       "      <th>AAV</th>\n",
       "      <th>Signing Bonus</th>\n",
       "    </tr>\n",
       "  </thead>\n",
       "  <tbody>\n",
       "    <tr>\n",
       "      <td>0</td>\n",
       "      <td>1</td>\n",
       "      <td>Mike Trout Center Field |2019-2030 (FA: 2031)</td>\n",
       "      <td>27.0</td>\n",
       "      <td>12</td>\n",
       "      <td>426500000</td>\n",
       "      <td>35541667</td>\n",
       "      <td>20000000</td>\n",
       "    </tr>\n",
       "    <tr>\n",
       "      <td>1</td>\n",
       "      <td>2</td>\n",
       "      <td>Mookie Betts Right Field |2020-2032 (FA: 2033)</td>\n",
       "      <td>27.0</td>\n",
       "      <td>12</td>\n",
       "      <td>365000000</td>\n",
       "      <td>30416667</td>\n",
       "      <td>65000000</td>\n",
       "    </tr>\n",
       "    <tr>\n",
       "      <td>2</td>\n",
       "      <td>3</td>\n",
       "      <td>Bryce Harper Right Field |2019-2031 (FA: 2032)</td>\n",
       "      <td>26.0</td>\n",
       "      <td>13</td>\n",
       "      <td>330000000</td>\n",
       "      <td>25384615</td>\n",
       "      <td>20000000</td>\n",
       "    </tr>\n",
       "    <tr>\n",
       "      <td>3</td>\n",
       "      <td>4</td>\n",
       "      <td>Giancarlo Stanton Designated Hitter |2015-2027...</td>\n",
       "      <td>25.0</td>\n",
       "      <td>13</td>\n",
       "      <td>325000000</td>\n",
       "      <td>25000000</td>\n",
       "      <td>0</td>\n",
       "    </tr>\n",
       "    <tr>\n",
       "      <td>4</td>\n",
       "      <td>5</td>\n",
       "      <td>Gerrit Cole Starting Pitcher |2020-2028 (FA: 2...</td>\n",
       "      <td>29.0</td>\n",
       "      <td>9</td>\n",
       "      <td>324000000</td>\n",
       "      <td>36000000</td>\n",
       "      <td>0</td>\n",
       "    </tr>\n",
       "  </tbody>\n",
       "</table>\n",
       "</div>"
      ],
      "text/plain": [
       "   Rank                                             Player  Signed Age  Yrs  \\\n",
       "0     1      Mike Trout Center Field |2019-2030 (FA: 2031)        27.0   12   \n",
       "1     2     Mookie Betts Right Field |2020-2032 (FA: 2033)        27.0   12   \n",
       "2     3     Bryce Harper Right Field |2019-2031 (FA: 2032)        26.0   13   \n",
       "3     4  Giancarlo Stanton Designated Hitter |2015-2027...        25.0   13   \n",
       "4     5  Gerrit Cole Starting Pitcher |2020-2028 (FA: 2...        29.0    9   \n",
       "\n",
       "       Value       AAV  Signing Bonus  \n",
       "0  426500000  35541667       20000000  \n",
       "1  365000000  30416667       65000000  \n",
       "2  330000000  25384615       20000000  \n",
       "3  325000000  25000000              0  \n",
       "4  324000000  36000000              0  "
      ]
     },
     "execution_count": 19,
     "metadata": {},
     "output_type": "execute_result"
    }
   ],
   "source": [
    "##Reading in Top MLB Contract Data##\n",
    "mlb_fifteen_hundred = pd.read_csv('mlb_fifteen_hundred_v2.csv', encoding='cp1252')\n",
    "mlb_fifteen_hundred.head()"
   ]
  },
  {
   "cell_type": "code",
   "execution_count": 20,
   "metadata": {},
   "outputs": [],
   "source": [
    "##Formatting Similar to Above##\n",
    "\n",
    "    ##Separate Name and Contract Date##\n",
    "mlb_fifteen_hundred[['Name','Contract']] = mlb_fifteen_hundred.Player.str.split('|', expand=True)\n",
    "    \n",
    "    ##Separate Contract Date and Free Agency Year)\n",
    "mlb_fifteen_hundred[['Contract', 'to_del']] = mlb_fifteen_hundred.Contract.str.split('(',expand=True)\n",
    "    \n",
    "    ##Delete Free Agency Year##\n",
    "del mlb_fifteen_hundred['to_del']\n",
    "    \n",
    "    ##Split Contract to get Start/End Dates\n",
    "mlb_fifteen_hundred[['Start Year', 'End Year']] = mlb_fifteen_hundred.Contract.str.split('-', expand=True)\n",
    "    \n",
    "    ##Deleting Contract Column##\n",
    "del mlb_fifteen_hundred['Contract']\n",
    "del mlb_fifteen_hundred['Player']\n",
    "\n",
    "    ##Reordering cols##\n",
    "cols = ['Name', 'Start Year', 'End Year', 'Yrs', 'Signed Age', 'Value' , 'AAV', 'Signing Bonus']\n",
    "mlb_fifteen_hundred = mlb_fifteen_hundred[cols]"
   ]
  },
  {
   "cell_type": "code",
   "execution_count": 21,
   "metadata": {
    "scrolled": true
   },
   "outputs": [
    {
     "data": {
      "text/html": [
       "<div>\n",
       "<style scoped>\n",
       "    .dataframe tbody tr th:only-of-type {\n",
       "        vertical-align: middle;\n",
       "    }\n",
       "\n",
       "    .dataframe tbody tr th {\n",
       "        vertical-align: top;\n",
       "    }\n",
       "\n",
       "    .dataframe thead th {\n",
       "        text-align: right;\n",
       "    }\n",
       "</style>\n",
       "<table border=\"1\" class=\"dataframe\">\n",
       "  <thead>\n",
       "    <tr style=\"text-align: right;\">\n",
       "      <th></th>\n",
       "      <th>Name</th>\n",
       "      <th>Start Year</th>\n",
       "      <th>End Year</th>\n",
       "      <th>Yrs</th>\n",
       "      <th>Signed Age</th>\n",
       "      <th>Value</th>\n",
       "      <th>AAV</th>\n",
       "      <th>Signing Bonus</th>\n",
       "    </tr>\n",
       "  </thead>\n",
       "  <tbody>\n",
       "    <tr>\n",
       "      <td>0</td>\n",
       "      <td>Mike Trout Center Field</td>\n",
       "      <td>2019</td>\n",
       "      <td>2030</td>\n",
       "      <td>12</td>\n",
       "      <td>27.0</td>\n",
       "      <td>426500000</td>\n",
       "      <td>35541667</td>\n",
       "      <td>20000000</td>\n",
       "    </tr>\n",
       "    <tr>\n",
       "      <td>1</td>\n",
       "      <td>Mookie Betts Right Field</td>\n",
       "      <td>2020</td>\n",
       "      <td>2032</td>\n",
       "      <td>12</td>\n",
       "      <td>27.0</td>\n",
       "      <td>365000000</td>\n",
       "      <td>30416667</td>\n",
       "      <td>65000000</td>\n",
       "    </tr>\n",
       "    <tr>\n",
       "      <td>2</td>\n",
       "      <td>Bryce Harper Right Field</td>\n",
       "      <td>2019</td>\n",
       "      <td>2031</td>\n",
       "      <td>13</td>\n",
       "      <td>26.0</td>\n",
       "      <td>330000000</td>\n",
       "      <td>25384615</td>\n",
       "      <td>20000000</td>\n",
       "    </tr>\n",
       "    <tr>\n",
       "      <td>3</td>\n",
       "      <td>Giancarlo Stanton Designated Hitter</td>\n",
       "      <td>2015</td>\n",
       "      <td>2027</td>\n",
       "      <td>13</td>\n",
       "      <td>25.0</td>\n",
       "      <td>325000000</td>\n",
       "      <td>25000000</td>\n",
       "      <td>0</td>\n",
       "    </tr>\n",
       "    <tr>\n",
       "      <td>4</td>\n",
       "      <td>Gerrit Cole Starting Pitcher</td>\n",
       "      <td>2020</td>\n",
       "      <td>2028</td>\n",
       "      <td>9</td>\n",
       "      <td>29.0</td>\n",
       "      <td>324000000</td>\n",
       "      <td>36000000</td>\n",
       "      <td>0</td>\n",
       "    </tr>\n",
       "  </tbody>\n",
       "</table>\n",
       "</div>"
      ],
      "text/plain": [
       "                                   Name Start Year End Year  Yrs  Signed Age  \\\n",
       "0              Mike Trout Center Field        2019    2030    12        27.0   \n",
       "1             Mookie Betts Right Field        2020    2032    12        27.0   \n",
       "2             Bryce Harper Right Field        2019    2031    13        26.0   \n",
       "3  Giancarlo Stanton Designated Hitter        2015    2027    13        25.0   \n",
       "4         Gerrit Cole Starting Pitcher        2020    2028     9        29.0   \n",
       "\n",
       "       Value       AAV  Signing Bonus  \n",
       "0  426500000  35541667       20000000  \n",
       "1  365000000  30416667       65000000  \n",
       "2  330000000  25384615       20000000  \n",
       "3  325000000  25000000              0  \n",
       "4  324000000  36000000              0  "
      ]
     },
     "execution_count": 21,
     "metadata": {},
     "output_type": "execute_result"
    }
   ],
   "source": [
    "##Ensuring Success##\n",
    "mlb_fifteen_hundred.head()"
   ]
  },
  {
   "cell_type": "markdown",
   "metadata": {},
   "source": [
    "While above we filtered by position, it would be too time consuming to do this for 1,500 lines of table manually. While we can use these points to predict when the first $1B contract will be signed, we will likely use current data to filter by position.\n",
    "\n",
    "Need to change both important variables to Numpy's float64 for FBProphet."
   ]
  },
  {
   "cell_type": "code",
   "execution_count": 37,
   "metadata": {},
   "outputs": [
    {
     "data": {
      "text/html": [
       "<div>\n",
       "<style scoped>\n",
       "    .dataframe tbody tr th:only-of-type {\n",
       "        vertical-align: middle;\n",
       "    }\n",
       "\n",
       "    .dataframe tbody tr th {\n",
       "        vertical-align: top;\n",
       "    }\n",
       "\n",
       "    .dataframe thead th {\n",
       "        text-align: right;\n",
       "    }\n",
       "</style>\n",
       "<table border=\"1\" class=\"dataframe\">\n",
       "  <thead>\n",
       "    <tr style=\"text-align: right;\">\n",
       "      <th></th>\n",
       "      <th>Name</th>\n",
       "      <th>Start Year</th>\n",
       "      <th>End Year</th>\n",
       "      <th>Yrs</th>\n",
       "      <th>Signed Age</th>\n",
       "      <th>Value</th>\n",
       "      <th>AAV</th>\n",
       "      <th>Signing Bonus</th>\n",
       "    </tr>\n",
       "  </thead>\n",
       "  <tbody>\n",
       "    <tr>\n",
       "      <td>0</td>\n",
       "      <td>Mike Trout Center Field</td>\n",
       "      <td>2019.0</td>\n",
       "      <td>2030</td>\n",
       "      <td>12</td>\n",
       "      <td>27.0</td>\n",
       "      <td>426500000.0</td>\n",
       "      <td>35541667</td>\n",
       "      <td>20000000</td>\n",
       "    </tr>\n",
       "    <tr>\n",
       "      <td>1</td>\n",
       "      <td>Mookie Betts Right Field</td>\n",
       "      <td>2020.0</td>\n",
       "      <td>2032</td>\n",
       "      <td>12</td>\n",
       "      <td>27.0</td>\n",
       "      <td>365000000.0</td>\n",
       "      <td>30416667</td>\n",
       "      <td>65000000</td>\n",
       "    </tr>\n",
       "    <tr>\n",
       "      <td>2</td>\n",
       "      <td>Bryce Harper Right Field</td>\n",
       "      <td>2019.0</td>\n",
       "      <td>2031</td>\n",
       "      <td>13</td>\n",
       "      <td>26.0</td>\n",
       "      <td>330000000.0</td>\n",
       "      <td>25384615</td>\n",
       "      <td>20000000</td>\n",
       "    </tr>\n",
       "    <tr>\n",
       "      <td>3</td>\n",
       "      <td>Giancarlo Stanton Designated Hitter</td>\n",
       "      <td>2015.0</td>\n",
       "      <td>2027</td>\n",
       "      <td>13</td>\n",
       "      <td>25.0</td>\n",
       "      <td>325000000.0</td>\n",
       "      <td>25000000</td>\n",
       "      <td>0</td>\n",
       "    </tr>\n",
       "    <tr>\n",
       "      <td>4</td>\n",
       "      <td>Gerrit Cole Starting Pitcher</td>\n",
       "      <td>2020.0</td>\n",
       "      <td>2028</td>\n",
       "      <td>9</td>\n",
       "      <td>29.0</td>\n",
       "      <td>324000000.0</td>\n",
       "      <td>36000000</td>\n",
       "      <td>0</td>\n",
       "    </tr>\n",
       "  </tbody>\n",
       "</table>\n",
       "</div>"
      ],
      "text/plain": [
       "                                   Name  Start Year End Year  Yrs  Signed Age  \\\n",
       "0              Mike Trout Center Field       2019.0    2030    12        27.0   \n",
       "1             Mookie Betts Right Field       2020.0    2032    12        27.0   \n",
       "2             Bryce Harper Right Field       2019.0    2031    13        26.0   \n",
       "3  Giancarlo Stanton Designated Hitter       2015.0    2027    13        25.0   \n",
       "4         Gerrit Cole Starting Pitcher       2020.0    2028     9        29.0   \n",
       "\n",
       "         Value       AAV  Signing Bonus  \n",
       "0  426500000.0  35541667       20000000  \n",
       "1  365000000.0  30416667       65000000  \n",
       "2  330000000.0  25384615       20000000  \n",
       "3  325000000.0  25000000              0  \n",
       "4  324000000.0  36000000              0  "
      ]
     },
     "execution_count": 37,
     "metadata": {},
     "output_type": "execute_result"
    }
   ],
   "source": [
    "##Changing Year to Numeric##\n",
    "mlb_fifteen_hundred['Start Year'] = mlb_fifteen_hundred['Start Year'].astype(np.float64)\n",
    "\n",
    "##Formatting Salary##\n",
    "mlb_fifteen_hundred['Value'] = mlb_fifteen_hundred['Value'].astype(np.float64)\n",
    "\n",
    "\n",
    "##Removing the entries where Start Year = 0 and Greater than 2021##\n",
    "mlb_fifteen_hundred = mlb_fifteen_hundred[mlb_fifteen_hundred['Start Year'] > 0]\n",
    "mlb_fifteen_hundred= mlb_fifteen_hundred[mlb_fifteen_hundred['Start Year'] < 2023]\n",
    "\n",
    "##Limiting Contract Value to $20M to attain more realistic average for a player likely to get $1B##\n",
    "mlb_fifteen_hundred = mlb_fifteen_hundred[mlb_fifteen_hundred['Value'] > 20000000]\n",
    "\n",
    "##667 Remaining Entries##\n",
    "mlb_fifteen_hundred.shape\n",
    "mlb_fifteen_hundred.head()"
   ]
  },
  {
   "cell_type": "code",
   "execution_count": 23,
   "metadata": {},
   "outputs": [],
   "source": [
    "from fbprophet import Prophet"
   ]
  },
  {
   "cell_type": "code",
   "execution_count": 44,
   "metadata": {},
   "outputs": [],
   "source": [
    "##Creating new dataframe with ds and y columns for Prophet##\n",
    "mlb_fifteen_hundred_prop = pd.DataFrame()\n",
    "mlb_fifteen_hundred_prop['ds'] = mlb_fifteen_hundred['Start Year']\n",
    "mlb_fifteen_hundred_prop['y'] = mlb_fifteen_hundred['Value']\n",
    "\n",
    "##Converting years in ds to DateTime objects\n",
    "mlb_fifteen_hundred_prop['ds'] = pd.to_datetime(mlb_fifteen_hundred_prop['ds'], format='%Y') \n",
    "\n",
    "mlb_fifteen_hundred_prop['cap'] = 1000000000"
   ]
  },
  {
   "cell_type": "code",
   "execution_count": 25,
   "metadata": {},
   "outputs": [
    {
     "data": {
      "text/plain": [
       "array([ 2.53261106e+09, -1.92060302e+10])"
      ]
     },
     "execution_count": 25,
     "metadata": {},
     "output_type": "execute_result"
    }
   ],
   "source": [
    "##Before using Prophet, running a expoential polyfit to acquire a formula##\n",
    "\n",
    "x=mlb_fifteen_hundred['Start Year']\n",
    "y=mlb_fifteen_hundred['Value']\n",
    "np.polyfit(np.log(x), y, 1)"
   ]
  },
  {
   "cell_type": "markdown",
   "metadata": {},
   "source": [
    "Formula is y ≈ 2.53261106e+09log(x) - 1.92060302e+10\n",
    "\n",
    "Graph of this function hits a horizontal asymptope eventually, we'll try to proceed with logistic."
   ]
  },
  {
   "cell_type": "code",
   "execution_count": 26,
   "metadata": {
    "scrolled": false
   },
   "outputs": [
    {
     "name": "stderr",
     "output_type": "stream",
     "text": [
      "INFO:fbprophet:Disabling weekly seasonality. Run prophet with weekly_seasonality=True to override this.\n",
      "INFO:fbprophet:Disabling daily seasonality. Run prophet with daily_seasonality=True to override this.\n"
     ]
    },
    {
     "data": {
      "image/png": "[encoded data removed]",
      "text/plain": [
       "<Figure size 720x432 with 1 Axes>"
      ]
     },
     "metadata": {},
     "output_type": "display_data"
    }
   ],
   "source": [
    "##Creating Prophet Object with monthly seasonality##\n",
    "m = Prophet(growth='logistic')\n",
    "m.fit(mlb_fifteen_hundred_prop)\n",
    "##Turning object into future looking DataFrame##\n",
    "future = m.make_future_dataframe(periods=100, freq='Y')\n",
    "future['cap'] = 1000000000\n",
    "##Making Forecast Model##\n",
    "fcst = m.predict(future)\n",
    "fig = m.plot(fcst)"
   ]
  },
  {
   "cell_type": "markdown",
   "metadata": {},
   "source": [
    "## Determining Coefficient of Multipier - Top Contracts"
   ]
  },
  {
   "cell_type": "code",
   "execution_count": 32,
   "metadata": {},
   "outputs": [
    {
     "data": {
      "text/plain": [
       "5.999591514871159"
      ]
     },
     "execution_count": 32,
     "metadata": {},
     "output_type": "execute_result"
    }
   ],
   "source": [
    "##Creating List of Unique Years##\n",
    "year_unique = mlb_fifteen_hundred['Start Year'].astype(int).unique()\n",
    "year_list = list(year_unique)\n",
    "\n",
    "##Creating Dictionary where Key is Year and Value is how much bigger than average the largest contract was##\n",
    "top_multiple = {}\n",
    "for i in year_list:\n",
    "    year_bool = mlb_fifteen_hundred[mlb_fifteen_hundred['Start Year'] == i]\n",
    "    avg = year_bool.mean()['Value']\n",
    "    top_earn = year_bool.sort_values('Value', ascending=False).iloc[0]\n",
    "    top_value = top_earn['Value']\n",
    "    top_multiple[i] = (top_value / avg)\n",
    "\n",
    "##Checking with Mike Trout's contract in 2019##\n",
    "top_multiple[2019]"
   ]
  },
  {
   "cell_type": "markdown",
   "metadata": {},
   "source": [
    "As an explanation, Mike Trout's 426.5M contract is almost 6 times greater than the average of contracts signed above $20M in 2019. Now to determine the coefficient, we can weight each of these numbers by proportion of the total dataset and sum."
   ]
  },
  {
   "cell_type": "code",
   "execution_count": 28,
   "metadata": {
    "scrolled": true
   },
   "outputs": [
    {
     "data": {
      "text/plain": [
       "3.4469027069055684"
      ]
     },
     "execution_count": 28,
     "metadata": {},
     "output_type": "execute_result"
    }
   ],
   "source": [
    "##Creating Dictionary of No. of Contracts by Year##\n",
    "contracts_by_year = {}\n",
    "for i in year_list:\n",
    "    year_bool = mlb_fifteen_hundred[mlb_fifteen_hundred['Start Year'] == i]\n",
    "    year_count = year_bool['Value'].count()\n",
    "    contracts_by_year[i] = year_count\n",
    "contracts_by_year\n",
    "\n",
    "#Determining Proportion of Total Contracts##\n",
    "prop_by_year = {}\n",
    "for i in contracts_by_year:\n",
    "    prop_by_year[i] = contracts_by_year[i] / 667\n",
    "\n",
    "prop_by_year\n",
    "\n",
    "##Determining Multiple Coefficient##\n",
    "coefficients = []\n",
    "for i in top_multiple:\n",
    "    start = 0\n",
    "    coefficient = top_multiple[i] * prop_by_year[i]\n",
    "    coefficients.append(coefficient)\n",
    "master_coef = sum(coefficients)\n",
    "master_coef"
   ]
  },
  {
   "cell_type": "markdown",
   "metadata": {},
   "source": [
    "As we can see, the historic average of the highest contract over the average of all high contracts for a year in the MLB is 3.4469.\n",
    "\n",
    "In theory, we can divide 1,000,000,000 by that coefficient to get the minimum average of contracts we'd need before a $1B contract is theoretically possible."
   ]
  },
  {
   "cell_type": "code",
   "execution_count": 29,
   "metadata": {},
   "outputs": [
    {
     "data": {
      "text/plain": [
       "290115528.35436505"
      ]
     },
     "execution_count": 29,
     "metadata": {},
     "output_type": "execute_result"
    }
   ],
   "source": [
    "divisor = 1000000000/master_coef\n",
    "divisor"
   ]
  },
  {
   "cell_type": "markdown",
   "metadata": {},
   "source": [
    "Now, look at the above logarithmic curve to determine when the average will be roughly $290,115,518"
   ]
  },
  {
   "cell_type": "code",
   "execution_count": 30,
   "metadata": {},
   "outputs": [
    {
     "data": {
      "text/html": [
       "<div>\n",
       "<style scoped>\n",
       "    .dataframe tbody tr th:only-of-type {\n",
       "        vertical-align: middle;\n",
       "    }\n",
       "\n",
       "    .dataframe tbody tr th {\n",
       "        vertical-align: top;\n",
       "    }\n",
       "\n",
       "    .dataframe thead th {\n",
       "        text-align: right;\n",
       "    }\n",
       "</style>\n",
       "<table border=\"1\" class=\"dataframe\">\n",
       "  <thead>\n",
       "    <tr style=\"text-align: right;\">\n",
       "      <th></th>\n",
       "      <th>ds</th>\n",
       "      <th>yhat</th>\n",
       "    </tr>\n",
       "  </thead>\n",
       "  <tbody>\n",
       "    <tr>\n",
       "      <td>712</td>\n",
       "      <td>2067-12-31</td>\n",
       "      <td>2.931574e+08</td>\n",
       "    </tr>\n",
       "    <tr>\n",
       "      <td>713</td>\n",
       "      <td>2068-12-31</td>\n",
       "      <td>2.925325e+08</td>\n",
       "    </tr>\n",
       "  </tbody>\n",
       "</table>\n",
       "</div>"
      ],
      "text/plain": [
       "            ds          yhat\n",
       "712 2067-12-31  2.931574e+08\n",
       "713 2068-12-31  2.925325e+08"
      ]
     },
     "execution_count": 30,
     "metadata": {},
     "output_type": "execute_result"
    }
   ],
   "source": [
    "##Determining yhat (predicted average) == $290,115,518##\n",
    "\n",
    "fcst[['ds', 'yhat', 'yhat_lower', 'yhat_upper']].tail()\n",
    "\n",
    "two_ninety_fcst = fcst[fcst['yhat'] > 290000000]\n",
    "between_fcst = two_ninety_fcst[two_ninety_fcst['yhat'] < 300000000]\n",
    "between_fcst[['ds', 'yhat']]"
   ]
  },
  {
   "cell_type": "markdown",
   "metadata": {},
   "source": [
    "Given historic averages of highest contract value over yearly average for all major contracts, we can predict the first $1B contract would be feasibly handed out in 2067."
   ]
  }
 ],
 "metadata": {
  "kernelspec": {
   "display_name": "Python 3",
   "language": "python",
   "name": "python3"
  },
  "language_info": {
   "codemirror_mode": {
    "name": "ipython",
    "version": 3
   },
   "file_extension": ".py",
   "mimetype": "text/x-python",
   "name": "python",
   "nbconvert_exporter": "python",
   "pygments_lexer": "ipython3",
   "version": "3.6.9"
  }
 },
 "nbformat": 4,
 "nbformat_minor": 4
}
